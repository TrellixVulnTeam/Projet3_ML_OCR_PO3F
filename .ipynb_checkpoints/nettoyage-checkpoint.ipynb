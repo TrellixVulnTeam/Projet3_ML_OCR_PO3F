{
 "cells": [
  {
   "cell_type": "markdown",
   "id": "cd514a6a",
   "metadata": {},
   "source": [
    "# ANALYSE EXPLORATOIRE DES DONNEES DE LA VILLE DE SEATTLE\n",
    "\n",
    "### analyse des deux db: 2015 et 2016"
   ]
  },
  {
   "cell_type": "code",
   "execution_count": 2,
   "id": "1cd7bcc0",
   "metadata": {},
   "outputs": [],
   "source": [
    "import matplotlib.pyplot as plt\n",
    "import pandas as pd\n",
    "import numpy as np"
   ]
  },
  {
   "cell_type": "code",
   "execution_count": null,
   "id": "151024cd",
   "metadata": {},
   "outputs": [],
   "source": [
    "df_2015 = pd.read_csv('archive/2015-building-energy-benchmarking.csv',sep = ',')\n",
    "df_2015.head()"
   ]
  }
 ],
 "metadata": {
  "kernelspec": {
   "display_name": "Python 3",
   "language": "python",
   "name": "python3"
  },
  "language_info": {
   "codemirror_mode": {
    "name": "ipython",
    "version": 3
   },
   "file_extension": ".py",
   "mimetype": "text/x-python",
   "name": "python",
   "nbconvert_exporter": "python",
   "pygments_lexer": "ipython3",
   "version": "3.9.5"
  }
 },
 "nbformat": 4,
 "nbformat_minor": 5
}

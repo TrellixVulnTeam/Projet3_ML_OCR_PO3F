{
 "cells": [
  {
   "cell_type": "code",
   "execution_count": 33,
   "id": "8d6b0a7d",
   "metadata": {},
   "outputs": [],
   "source": [
    "import matplotlib.pyplot as plt\n",
    "import pandas as pd\n",
    "import numpy as np\n",
    "import seaborn as sns\n",
    "import sklearn as skl\n",
    "from sklearn.model_selection import train_test_split\n",
    "import matplotlib.pyplot as plt\n",
    "import seaborn as sns "
   ]
  },
  {
   "cell_type": "markdown",
   "id": "cf7329dd",
   "metadata": {},
   "source": [
    "# Prédiction des variables 'SiteEnergyUse(kBtu)' et 'TotalGHGEmissions'"
   ]
  },
  {
   "cell_type": "code",
   "execution_count": 34,
   "id": "3f8463cf",
   "metadata": {},
   "outputs": [
    {
     "name": "stdout",
     "output_type": "stream",
     "text": [
      "<class 'pandas.core.frame.DataFrame'>\n",
      "Int64Index: 1411 entries, 0 to 2051\n",
      "Data columns (total 23 columns):\n",
      " #   Column                     Non-Null Count  Dtype  \n",
      "---  ------                     --------------  -----  \n",
      " 0   OSEBuildingID              1411 non-null   int64  \n",
      " 1   DataYear                   1411 non-null   int64  \n",
      " 2   BuildingType               1411 non-null   int64  \n",
      " 3   PrimaryPropertyType        1411 non-null   int64  \n",
      " 4   YearBuilt                  1411 non-null   int64  \n",
      " 5   NumberofBuildings          1411 non-null   float64\n",
      " 6   NumberofFloors             1411 non-null   float64\n",
      " 7   PropertyGFATotal           1411 non-null   int64  \n",
      " 8   PropertyGFAParking         1411 non-null   int64  \n",
      " 9   PropertyGFABuilding(s)     1411 non-null   int64  \n",
      " 10  LargestPropertyUseTypeGFA  1411 non-null   float64\n",
      " 11  ENERGYSTARScore            1411 non-null   float64\n",
      " 12  SiteEUI(kBtu/sf)           1411 non-null   float64\n",
      " 13  SourceEUI(kBtu/sf)         1411 non-null   float64\n",
      " 14  SiteEnergyUse(kBtu)        1411 non-null   float64\n",
      " 15  SteamUse(kBtu)             1411 non-null   float64\n",
      " 16  Electricity(kWh)           1411 non-null   float64\n",
      " 17  NaturalGas(therms)         1411 non-null   float64\n",
      " 18  TotalGHGEmissions          1411 non-null   float64\n",
      " 19  GHGEmissionsIntensity      1411 non-null   float64\n",
      " 20  Latitude                   1411 non-null   float64\n",
      " 21  Longitude                  1411 non-null   float64\n",
      " 22  ZipCode                    1411 non-null   float64\n",
      "dtypes: float64(15), int64(8)\n",
      "memory usage: 264.6 KB\n"
     ]
    }
   ],
   "source": [
    "df = pd.read_csv('building-energy-benchmarking_final_features.csv',sep=',')\n",
    "df = df.drop(df.columns[[0]], axis=1) \n",
    "df.dropna(inplace = True)\n",
    "df.info(verbose = True)"
   ]
  },
  {
   "cell_type": "code",
   "execution_count": 35,
   "id": "56882f88",
   "metadata": {},
   "outputs": [
    {
     "name": "stdout",
     "output_type": "stream",
     "text": [
      "<class 'pandas.core.frame.DataFrame'>\n",
      "Int64Index: 1411 entries, 0 to 2051\n",
      "Data columns (total 19 columns):\n",
      " #   Column                     Non-Null Count  Dtype  \n",
      "---  ------                     --------------  -----  \n",
      " 0   DataYear                   1411 non-null   int64  \n",
      " 1   BuildingType               1411 non-null   int64  \n",
      " 2   PrimaryPropertyType        1411 non-null   int64  \n",
      " 3   YearBuilt                  1411 non-null   int64  \n",
      " 4   NumberofBuildings          1411 non-null   float64\n",
      " 5   NumberofFloors             1411 non-null   float64\n",
      " 6   PropertyGFATotal           1411 non-null   int64  \n",
      " 7   PropertyGFAParking         1411 non-null   int64  \n",
      " 8   PropertyGFABuilding(s)     1411 non-null   int64  \n",
      " 9   LargestPropertyUseTypeGFA  1411 non-null   float64\n",
      " 10  ENERGYSTARScore            1411 non-null   float64\n",
      " 11  SiteEUI(kBtu/sf)           1411 non-null   float64\n",
      " 12  SourceEUI(kBtu/sf)         1411 non-null   float64\n",
      " 13  SiteEnergyUse(kBtu)        1411 non-null   float64\n",
      " 14  SteamUse(kBtu)             1411 non-null   float64\n",
      " 15  Electricity(kWh)           1411 non-null   float64\n",
      " 16  NaturalGas(therms)         1411 non-null   float64\n",
      " 17  TotalGHGEmissions          1411 non-null   float64\n",
      " 18  GHGEmissionsIntensity      1411 non-null   float64\n",
      "dtypes: float64(12), int64(7)\n",
      "memory usage: 220.5 KB\n"
     ]
    }
   ],
   "source": [
    "df = df.drop(df.columns[[0,20,21,22]],axis = 1)\n",
    "df.info(verbose = True)"
   ]
  },
  {
   "cell_type": "markdown",
   "id": "b1b61534",
   "metadata": {},
   "source": [
    "### Observation des densités des variables à prédire"
   ]
  },
  {
   "cell_type": "code",
   "execution_count": 36,
   "id": "ce6370a1",
   "metadata": {},
   "outputs": [
    {
     "data": {
      "text/plain": [
       "Text(0.5, 1.0, 'distribution de la variable SiteEnergyUse(kBtu)')"
      ]
     },
     "execution_count": 36,
     "metadata": {},
     "output_type": "execute_result"
    },
    {
     "data": {
      "image/png": "[encoded data removed]",
      "text/plain": [
       "<Figure size 1440x576 with 2 Axes>"
      ]
     },
     "metadata": {
      "needs_background": "light"
     },
     "output_type": "display_data"
    }
   ],
   "source": [
    "fig, axes = plt.subplots(nrows=1, ncols=2, sharex=False, sharey=False, figsize=(20,8))\n",
    "\n",
    "sns.histplot(data=df, x='TotalGHGEmissions', stat=\"density\",ax = axes[0])\n",
    "sns.histplot(data=df, x='SiteEnergyUse(kBtu)', stat=\"density\",ax =axes[1])\n",
    "axes[0].set_title('distribution de la variable TotalGHGEmissions')\n",
    "axes[1].set_title('distribution de la variable SiteEnergyUse(kBtu)')"
   ]
  },
  {
   "cell_type": "markdown",
   "id": "b5c7a6b1",
   "metadata": {},
   "source": [
    "#### On observe que les deux variables à prédire suivent une distribution exponentielle. \n",
    "On utilise la fonction inverse afin d'obtenir une distribution normale"
   ]
  },
  {
   "cell_type": "code",
   "execution_count": 37,
   "id": "8d0a7006",
   "metadata": {},
   "outputs": [],
   "source": [
    "from sklearn.preprocessing import FunctionTransformer\n",
    "\n",
    "logtransformer = FunctionTransformer(np.log, inverse_func = np.exp, check_inverse = True)\n"
   ]
  },
  {
   "cell_type": "markdown",
   "id": "53e1a532",
   "metadata": {},
   "source": [
    "### Separation des données "
   ]
  },
  {
   "cell_type": "code",
   "execution_count": 57,
   "id": "127fff78",
   "metadata": {},
   "outputs": [
    {
     "data": {
      "text/plain": [
       "0     249.43\n",
       "1     263.51\n",
       "2    2061.48\n",
       "3    1936.34\n",
       "4     507.70\n",
       "Name: TotalGHGEmissions, dtype: float64"
      ]
     },
     "execution_count": 57,
     "metadata": {},
     "output_type": "execute_result"
    }
   ],
   "source": [
    "targets_columns = ['SiteEnergyUse(kBtu)','TotalGHGEmissions']\n",
    "df_features = df.copy()\n",
    "df_targets = df.copy()\n",
    "df_features = df_features.drop(columns=['SiteEnergyUse(kBtu)', 'TotalGHGEmissions','ENERGYSTARScore'])\n",
    "df_target_elec = df_targets['SiteEnergyUse(kBtu)']\n",
    "df_target_CO2 = df_targets['TotalGHGEmissions']\n",
    "df_target_CO2.head()"
   ]
  },
  {
   "cell_type": "markdown",
   "id": "45aa025e",
   "metadata": {},
   "source": [
    "### Standardisation des données"
   ]
  },
  {
   "cell_type": "code",
   "execution_count": 60,
   "id": "e869c547",
   "metadata": {},
   "outputs": [
    {
     "data": {
      "text/plain": [
       "Text(0.5, 1.0, 'application de la fonction inverse sur la distribution de la variable SiteEnergyUse(kBtu)')"
      ]
     },
     "execution_count": 60,
     "metadata": {},
     "output_type": "execute_result"
    },
    {
     "data": {
      "image/png": "[encoded data removed]",
      "text/plain": [
       "<Figure size 1440x576 with 2 Axes>"
      ]
     },
     "metadata": {
      "needs_background": "light"
     },
     "output_type": "display_data"
    }
   ],
   "source": [
    "from sklearn.preprocessing import StandardScaler\n",
    "\n",
    "scaler = StandardScaler()\n",
    "df_features = scaler.fit_transform(df_features)\n",
    "\n",
    "target_e = logtransformer.transform(df_target_elec)\n",
    "target_C = logtransformer.transform(df_target_CO2)\n",
    "\n",
    "# df_features_tr = scaler.transform(df_features)\n",
    "\n",
    "fig, axes = plt.subplots(nrows=1, ncols=2, sharex=False, sharey=False, figsize=(20,8))\n",
    "\n",
    "sns.histplot(data=target_e, stat=\"density\",bins = 50,ax = axes[0])\n",
    "sns.histplot(data=target_C, stat=\"density\",bins = 50 ,ax =axes[1])\n",
    "axes[0].set_title('application de la fonction inverse sur la distribution de la variable TotalGHGEmissions')\n",
    "axes[1].set_title('application de la fonction inverse sur la distribution de la variable SiteEnergyUse(kBtu)')"
   ]
  },
  {
   "cell_type": "markdown",
   "id": "e8e230ea",
   "metadata": {},
   "source": [
    "### Creation des datasets "
   ]
  },
  {
   "cell_type": "code",
   "execution_count": 61,
   "id": "0c52bc88",
   "metadata": {},
   "outputs": [
    {
     "name": "stdout",
     "output_type": "stream",
     "text": [
      "continuous\n",
      "multiclass\n",
      "multiclass\n",
      "continuous\n",
      "multiclass\n",
      "multiclass\n"
     ]
    }
   ],
   "source": [
    "from sklearn.model_selection import train_test_split\n",
    "from sklearn import preprocessing\n",
    "from sklearn import utils\n",
    "\n",
    "(Xtrain_e,ytrain_e,Xtest_e,ytest_e) = train_test_split(df_features, target_e)\n",
    "(Xtrain_g,ytrain_g,Xtest_g,ytest_g) = train_test_split(df_features, target_C)\n",
    "\n",
    "lab_enc = preprocessing.LabelEncoder()\n",
    "df_target_elec = lab_enc.fit_transform(target_e)\n",
    "df_target_CO2 = lab_enc.fit_transform(target_C)\n",
    "\n",
    "print(utils.multiclass.type_of_target(target_e))\n",
    "print(utils.multiclass.type_of_target(target_e.astype('int')))\n",
    "print(utils.multiclass.type_of_target(df_target_elec))\n",
    "\n",
    "print(utils.multiclass.type_of_target(target_C))\n",
    "print(utils.multiclass.type_of_target(target_C.astype('int')))\n",
    "print(utils.multiclass.type_of_target(df_target_CO2))"
   ]
  },
  {
   "cell_type": "markdown",
   "id": "b3b84ba2",
   "metadata": {},
   "source": [
    "# Prédictions sur les différents modèles"
   ]
  },
  {
   "cell_type": "code",
   "execution_count": 101,
   "id": "fa515fb7",
   "metadata": {},
   "outputs": [
    {
     "name": "stdout",
     "output_type": "stream",
     "text": [
      "prediction en électricité avec le modèle linear regression : \n",
      " {'fit_time': array([0.00299311, 0.00199389, 0.00199485, 0.00199437, 0.00298977]), 'score_time': array([0.        , 0.00099754, 0.00099707, 0.00199747, 0.        ]), 'test_r2': array([0.31313953, 0.54550927, 0.48014983, 0.14628649, 0.07667341]), 'test_neg_mean_absolute_error': array([-251.53004236, -216.30227524, -237.98242245, -268.5925088 ,\n",
      "       -320.86599579])}\n",
      "prédiction en consomation de CO2 avec le modèle linear regression : \n",
      " {'fit_time': array([0.00398588, 0.00278759, 0.00199771, 0.00233173, 0.00215077]), 'score_time': array([0.00099874, 0.        , 0.00099659, 0.        , 0.        ]), 'test_r2': array([0.10882096, 0.5528434 , 0.24283266, 0.41668489, 0.16166613]), 'test_neg_mean_absolute_error': array([-249.76879564, -199.51640209, -250.67778023, -215.64537281,\n",
      "       -276.74969545])}\n"
     ]
    }
   ],
   "source": [
    "from sklearn.model_selection import cross_val_score\n",
    "from sklearn.model_selection import cross_validate\n",
    "\n",
    "from sklearn import linear_model\n",
    "reg = linear_model.LinearRegression()\n",
    "\n",
    "scores_elec1 = cross_validate(reg, df_features, df_target_elec, cv=5, scoring = ('r2','neg_mean_absolute_error'))\n",
    "print('prediction en électricité avec le modèle linear regression : \\n',scores_elec1)\n",
    "\n",
    "scores_CO21 = cross_validate(reg, df_features, df_target_CO2, cv = 5,scoring = ('r2','neg_mean_absolute_error'))\n",
    "print('prédiction en consomation de CO2 avec le modèle linear regression : \\n', scores_CO21)"
   ]
  },
  {
   "cell_type": "markdown",
   "id": "f5d44f01",
   "metadata": {},
   "source": [
    "### Cross validation sur le modèle linéaire SVR"
   ]
  },
  {
   "cell_type": "code",
   "execution_count": 91,
   "id": "8da6000c",
   "metadata": {},
   "outputs": [
    {
     "name": "stdout",
     "output_type": "stream",
     "text": [
      "prediction en électricité avec le modèle SVR : \n",
      " {'fit_time': array([0.06283212, 0.05983973, 0.05186033, 0.05186439, 0.04883385]), 'score_time': array([0.03790069, 0.04092479, 0.03789639, 0.03789783, 0.03889608]), 'test_r2': array([-0.10496656,  0.22195733,  0.21609327, -0.00847527, -0.56542483]), 'test_neg_mean_absolute_error': array([-323.37255041, -294.24823362, -308.7064556 , -304.36400114,\n",
      "       -417.59222244])}\n",
      "prédiction en consomation de CO2 avec le modèle SVR : \n",
      " {'fit_time': array([0.04990077, 0.05186582, 0.05584979, 0.04887128, 0.04887009]), 'score_time': array([0.04188919, 0.03889155, 0.03989315, 0.03590393, 0.03789783]), 'test_r2': array([-0.07321078,  0.16341949,  0.17904257,  0.18947048, -0.29518319]), 'test_neg_mean_absolute_error': array([-325.98260739, -277.80177432, -327.93222986, -274.69968387,\n",
      "       -361.69868097])}\n"
     ]
    }
   ],
   "source": [
    "from sklearn.svm import SVR\n",
    "\n",
    "clf_svr = SVR()\n",
    "scores_elec2 = cross_validate(clf_svr, df_features, df_target_elec, cv=5, scoring = ('r2','neg_mean_absolute_error'))\n",
    "print('prediction en électricité avec le modèle SVR : \\n',scores_elec2)\n",
    "\n",
    "scores_CO22 = cross_validate(clf_svr, df_features, df_target_CO2, cv = 5,scoring = ('r2','neg_mean_absolute_error'))\n",
    "print('prédiction en consomation de CO2 avec le modèle SVR : \\n', scores_CO22)"
   ]
  },
  {
   "cell_type": "markdown",
   "id": "002c045a",
   "metadata": {},
   "source": [
    "### Cross validation modèle linéaire ElasticNet"
   ]
  },
  {
   "cell_type": "code",
   "execution_count": 92,
   "id": "e5446881",
   "metadata": {},
   "outputs": [
    {
     "name": "stdout",
     "output_type": "stream",
     "text": [
      "prediction en électricité avec le modèle ElasticNet : \n",
      " {'fit_time': array([0.00299025, 0.00199389, 0.00299335, 0.00198913, 0.00170183]), 'score_time': array([0.00099778, 0.00099611, 0.00099802, 0.00102973, 0.        ]), 'test_r2': array([ 0.11248027,  0.31728912,  0.29616615,  0.18023597, -0.27497097]), 'test_neg_mean_absolute_error': array([-0.89437322, -0.80269734, -0.87337623, -0.83374765, -1.13565086])}\n",
      "prédiction en consomation de CO2 avec le modèle ElasticNet : \n",
      " {'fit_time': array([0.00193334, 0.00199628, 0.00095987, 0.00233984, 0.00214601]), 'score_time': array([0.        , 0.        , 0.00103426, 0.        , 0.        ]), 'test_r2': array([ 0.06545028,  0.26538419,  0.24367298,  0.26054555, -0.09189694]), 'test_neg_mean_absolute_error': array([-1.04713937, -0.8594757 , -1.09395287, -0.83253768, -1.19743685])}\n"
     ]
    }
   ],
   "source": [
    "from sklearn.linear_model import ElasticNet \n",
    "\n",
    "clf = ElasticNet()\n",
    "scores_elec3 = cross_validate(clf, df_features, target_e, cv=5, scoring = ('r2','neg_mean_absolute_error'))\n",
    "print('prediction en électricité avec le modèle ElasticNet : \\n',scores_elec3)\n",
    "\n",
    "scores_CO23 = cross_validate(clf, df_features, target_C, cv = 5,scoring = ('r2','neg_mean_absolute_error'))\n",
    "print('prédiction en consomation de CO2 avec le modèle ElasticNet : \\n', scores_CO23)"
   ]
  },
  {
   "cell_type": "markdown",
   "id": "d3885b1c",
   "metadata": {},
   "source": [
    "### Cross validation sur modèle non inéaire random forest"
   ]
  },
  {
   "cell_type": "code",
   "execution_count": 93,
   "id": "8e3a89f2",
   "metadata": {},
   "outputs": [
    {
     "name": "stdout",
     "output_type": "stream",
     "text": [
      "prediction en électricité avec le modèle RandomForest : \n",
      " {'fit_time': array([0.50540304, 0.48010945, 0.52255416, 0.48120666, 0.49667192]), 'score_time': array([0.00898123, 0.00901818, 0.00998163, 0.00997329, 0.00897598]), 'test_r2': array([0.99082064, 0.99219106, 0.99552704, 0.98190128, 0.99345392]), 'test_neg_mean_absolute_error': array([-15.58727915, -14.9243617 , -14.23414894, -16.12957447,\n",
      "       -19.66989362])}\n",
      "prédiction en consomation de CO2 avec le modèle RandomForest : \n",
      " {'fit_time': array([0.51337934, 0.49650717, 0.49004126, 0.51408339, 0.5116756 ]), 'score_time': array([0.00902081, 0.0089767 , 0.00894117, 0.01003861, 0.00993228]), 'test_r2': array([0.99482243, 0.99499842, 0.99714709, 0.99368453, 0.99088372]), 'test_neg_mean_absolute_error': array([-14.43120141, -14.68450355, -12.8114539 , -17.60847518,\n",
      "       -22.54585106])}\n"
     ]
    }
   ],
   "source": [
    "from sklearn.ensemble import RandomForestRegressor\n",
    "regr = RandomForestRegressor()\n",
    "\n",
    "scores_elec4 = cross_validate(regr, df_features, df_target_elec, cv=5, scoring = ('r2','neg_mean_absolute_error'))\n",
    "print('prediction en électricité avec le modèle RandomForest : \\n',scores_elec4)\n",
    "\n",
    "scores_CO24 = cross_validate(regr, df_features, df_target_CO2, cv = 5,scoring = ('r2','neg_mean_absolute_error'))\n",
    "print('prédiction en consomation de CO2 avec le modèle RandomForest : \\n', scores_CO24)"
   ]
  },
  {
   "cell_type": "markdown",
   "id": "aa33858d",
   "metadata": {},
   "source": [
    "### Cross validation sur le modèle XGBoost "
   ]
  },
  {
   "cell_type": "code",
   "execution_count": 109,
   "id": "788e2257",
   "metadata": {},
   "outputs": [
    {
     "name": "stdout",
     "output_type": "stream",
     "text": [
      "prediction en électricité avec le modèle XGBoost : \n",
      " {'fit_time': array([0.23165464, 0.22668314, 0.20875096, 0.22913647, 0.2200563 ]), 'score_time': array([0.00199533, 0.00099492, 0.        , 0.00197721, 0.00099826]), 'test_r2': array([0.99315748, 0.99322314, 0.99529325, 0.9798341 , 0.98968223]), 'test_neg_mean_absolute_error': array([-19.14005067, -21.18735266, -19.92806812, -21.67434299,\n",
      "       -24.42471751])}\n",
      "prédiction en consomation de CO2 avec le modèle XGBoost : \n",
      " {'fit_time': array([0.25403047, 0.21081662, 0.20481086, 0.21460152, 0.22087979]), 'score_time': array([0.00099778, 0.        , 0.02824759, 0.        , 0.        ]), 'test_r2': array([0.99261827, 0.9911689 , 0.9950807 , 0.98698958, 0.98477077]), 'test_neg_mean_absolute_error': array([-22.2572006 , -23.81073845, -20.86525983, -30.10565262,\n",
      "       -31.56495298])}\n"
     ]
    }
   ],
   "source": [
    "from sklearn.ensemble import GradientBoostingRegressor\n",
    "\n",
    "reg = GradientBoostingRegressor()\n",
    "\n",
    "scores_elec5 = cross_validate(reg, df_features, df_target_elec, cv=5, scoring = ('r2','neg_mean_absolute_error'))\n",
    "print('prediction en électricité avec le modèle XGBoost : \\n',scores_elec5)\n",
    "\n",
    "scores_CO25 = cross_validate(reg, df_features, df_target_CO2, cv = 5,scoring = ('r2','neg_mean_absolute_error'))\n",
    "print('prédiction en consomation de CO2 avec le modèle XGBoost : \\n', scores_CO25)"
   ]
  },
  {
   "cell_type": "markdown",
   "id": "9ce9bcd0",
   "metadata": {},
   "source": [
    "# Comparaison différents modèles  "
   ]
  },
  {
   "cell_type": "code",
   "execution_count": 167,
   "id": "34b79f0f",
   "metadata": {},
   "outputs": [
    {
     "name": "stdout",
     "output_type": "stream",
     "text": [
      "                  linear regression                   SVR  \\\n",
      "modèle            linear regression                   SVR   \n",
      "fit time elec  0.002393198013305664   0.05504608154296875   \n",
      "fit time CO2   0.002650737762451172  0.051071548461914064   \n",
      "\n",
      "                          ElasticNet  RandomForestRegressor  \\\n",
      "modèle                    ElasticNet  RandomForestRegressor   \n",
      "fit time elec  0.0023336887359619142     0.4971890449523926   \n",
      "fit time CO2   0.0018750667572021485     0.5051373481750489   \n",
      "\n",
      "                  XGBoostRegressor  \n",
      "modèle            XGBoostRegressor  \n",
      "fit time elec  0.22325630187988282  \n",
      "fit time CO2   0.22102785110473633  \n"
     ]
    }
   ],
   "source": [
    "#Création Dataframe des résultats\n",
    "\n",
    "\n",
    "labels = np.transpose(['linear regression','SVR','ElasticNet','RandomForestRegressor','XGBoostRegressor'])\n",
    "\n",
    "\n",
    "fit_time_e = np.transpose([np.mean(scores_elec1['fit_time']),np.mean(scores_elec2['fit_time']),np.mean(scores_elec3['fit_time']),np.mean(scores_elec4['fit_time']),np.mean(scores_elec5['fit_time'])])\n",
    "r2_e = np.transpose([np.mean(scores_elec1['test_r2']),np.mean(scores_elec2['test_r2']),np.mean(scores_elec3['test_r2']),np.mean(scores_elec4['test_r2']),np.mean(scores_elec5['test_r2'])])\n",
    "mae_e = np.transpose([np.mean(scores_elec1['test_neg_mean_absolute_error']),np.mean(scores_elec2['test_neg_mean_absolute_error']),np.mean(scores_elec3['test_neg_mean_absolute_error']),np.mean(scores_elec4['test_neg_mean_absolute_error']),np.mean(scores_elec5['test_neg_mean_absolute_error'])])\n",
    "\n",
    "fit_time_C = np.transpose([np.mean(scores_CO21['fit_time']),np.mean(scores_CO22['fit_time']),np.mean(scores_CO23['fit_time']),np.mean(scores_CO24['fit_time']),np.mean(scores_CO25['fit_time'])])\n",
    "r2_C = np.transpose([np.mean(scores_CO21['test_r2']),np.mean(scores_CO22['test_r2']),np.mean(scores_CO23['test_r2']),np.mean(scores_CO24['test_r2']),np.mean(scores_CO25['test_r2'])])\n",
    "mae_C = np.transpose([np.mean(scores_CO21['test_neg_mean_absolute_error']),np.mean(scores_CO22['test_neg_mean_absolute_error']),np.mean(scores_CO23['test_neg_mean_absolute_error']),np.mean(scores_CO24['test_neg_mean_absolute_error']),np.mean(scores_CO25['test_neg_mean_absolute_error'])])\n",
    "\n",
    "d_fit_time = np.concatenate([labels,fit_time_e,fit_time_C])\n",
    "d_fit_time = np.reshape(d_fit_time,(3,5))\n",
    "\n",
    "d_r2 = np.concatenate([labels,r2_e,r2_C])\n",
    "d_r2 = np.reshape(d_r2,(3,5))\n",
    "\n",
    "d_mae = np.concatenate((labels,mae_e,mae_C),axis=0)\n",
    "d_mae = np.reshape(d_mae,(3,5))\n",
    "\n",
    "\n",
    "df_time = pd.DataFrame(d_fit_time,columns= labels,index = ['modele','fit time elec','fit time CO2'])\n",
    "df_r2 = pd.DataFrame(d_r2,columns = labels,index = ['modele','R² elec','R² CO2'])\n",
    "df_mae = pd.DataFrame(d_mae,columns = labels,index = ['modele','MAE elec','MAE CO2'])\n",
    "\n",
    "print(df_time.head())"
   ]
  },
  {
   "cell_type": "code",
   "execution_count": 169,
   "id": "453d6c5c",
   "metadata": {},
   "outputs": [
    {
     "ename": "ValueError",
     "evalue": "Could not interpret input 'modèle'",
     "output_type": "error",
     "traceback": [
      "\u001b[1;31m---------------------------------------------------------------------------\u001b[0m",
      "\u001b[1;31mValueError\u001b[0m                                Traceback (most recent call last)",
      "\u001b[1;32m<ipython-input-169-9200562c3603>\u001b[0m in \u001b[0;36m<module>\u001b[1;34m\u001b[0m\n\u001b[0;32m      2\u001b[0m \u001b[0msns\u001b[0m\u001b[1;33m.\u001b[0m\u001b[0mset_theme\u001b[0m\u001b[1;33m(\u001b[0m\u001b[0mstyle\u001b[0m\u001b[1;33m=\u001b[0m\u001b[1;34m\"whitegrid\"\u001b[0m\u001b[1;33m,\u001b[0m\u001b[0mpalette\u001b[0m\u001b[1;33m=\u001b[0m\u001b[1;34m\"pastel\"\u001b[0m\u001b[1;33m)\u001b[0m\u001b[1;33m\u001b[0m\u001b[1;33m\u001b[0m\u001b[0m\n\u001b[0;32m      3\u001b[0m \u001b[1;33m\u001b[0m\u001b[0m\n\u001b[1;32m----> 4\u001b[1;33m g = sns.catplot(\n\u001b[0m\u001b[0;32m      5\u001b[0m     \u001b[0mdata\u001b[0m\u001b[1;33m=\u001b[0m\u001b[0mdf_time\u001b[0m\u001b[1;33m,\u001b[0m \u001b[0mkind\u001b[0m\u001b[1;33m=\u001b[0m\u001b[1;34m\"bar\"\u001b[0m\u001b[1;33m,\u001b[0m\u001b[1;33m\u001b[0m\u001b[1;33m\u001b[0m\u001b[0m\n\u001b[0;32m      6\u001b[0m     \u001b[0mx\u001b[0m\u001b[1;33m=\u001b[0m\u001b[1;34m'modèle'\u001b[0m\u001b[1;33m,\u001b[0m \u001b[0my\u001b[0m\u001b[1;33m=\u001b[0m\u001b[1;34m'fit time elec'\u001b[0m\u001b[1;33m\u001b[0m\u001b[1;33m\u001b[0m\u001b[0m\n",
      "\u001b[1;32mc:\\users\\lucas\\documents\\formation_ml_ocr\\projet_3\\venv\\lib\\site-packages\\seaborn\\_decorators.py\u001b[0m in \u001b[0;36minner_f\u001b[1;34m(*args, **kwargs)\u001b[0m\n\u001b[0;32m     44\u001b[0m             )\n\u001b[0;32m     45\u001b[0m         \u001b[0mkwargs\u001b[0m\u001b[1;33m.\u001b[0m\u001b[0mupdate\u001b[0m\u001b[1;33m(\u001b[0m\u001b[1;33m{\u001b[0m\u001b[0mk\u001b[0m\u001b[1;33m:\u001b[0m \u001b[0marg\u001b[0m \u001b[1;32mfor\u001b[0m \u001b[0mk\u001b[0m\u001b[1;33m,\u001b[0m \u001b[0marg\u001b[0m \u001b[1;32min\u001b[0m \u001b[0mzip\u001b[0m\u001b[1;33m(\u001b[0m\u001b[0msig\u001b[0m\u001b[1;33m.\u001b[0m\u001b[0mparameters\u001b[0m\u001b[1;33m,\u001b[0m \u001b[0margs\u001b[0m\u001b[1;33m)\u001b[0m\u001b[1;33m}\u001b[0m\u001b[1;33m)\u001b[0m\u001b[1;33m\u001b[0m\u001b[1;33m\u001b[0m\u001b[0m\n\u001b[1;32m---> 46\u001b[1;33m         \u001b[1;32mreturn\u001b[0m \u001b[0mf\u001b[0m\u001b[1;33m(\u001b[0m\u001b[1;33m**\u001b[0m\u001b[0mkwargs\u001b[0m\u001b[1;33m)\u001b[0m\u001b[1;33m\u001b[0m\u001b[1;33m\u001b[0m\u001b[0m\n\u001b[0m\u001b[0;32m     47\u001b[0m     \u001b[1;32mreturn\u001b[0m \u001b[0minner_f\u001b[0m\u001b[1;33m\u001b[0m\u001b[1;33m\u001b[0m\u001b[0m\n\u001b[0;32m     48\u001b[0m \u001b[1;33m\u001b[0m\u001b[0m\n",
      "\u001b[1;32mc:\\users\\lucas\\documents\\formation_ml_ocr\\projet_3\\venv\\lib\\site-packages\\seaborn\\categorical.py\u001b[0m in \u001b[0;36mcatplot\u001b[1;34m(x, y, hue, data, row, col, col_wrap, estimator, ci, n_boot, units, seed, order, hue_order, row_order, col_order, kind, height, aspect, orient, color, palette, legend, legend_out, sharex, sharey, margin_titles, facet_kws, **kwargs)\u001b[0m\n\u001b[0;32m   3787\u001b[0m     \u001b[0mp\u001b[0m \u001b[1;33m=\u001b[0m \u001b[0m_CategoricalPlotter\u001b[0m\u001b[1;33m(\u001b[0m\u001b[1;33m)\u001b[0m\u001b[1;33m\u001b[0m\u001b[1;33m\u001b[0m\u001b[0m\n\u001b[0;32m   3788\u001b[0m     \u001b[0mp\u001b[0m\u001b[1;33m.\u001b[0m\u001b[0mrequire_numeric\u001b[0m \u001b[1;33m=\u001b[0m \u001b[0mplotter_class\u001b[0m\u001b[1;33m.\u001b[0m\u001b[0mrequire_numeric\u001b[0m\u001b[1;33m\u001b[0m\u001b[1;33m\u001b[0m\u001b[0m\n\u001b[1;32m-> 3789\u001b[1;33m     \u001b[0mp\u001b[0m\u001b[1;33m.\u001b[0m\u001b[0mestablish_variables\u001b[0m\u001b[1;33m(\u001b[0m\u001b[0mx_\u001b[0m\u001b[1;33m,\u001b[0m \u001b[0my_\u001b[0m\u001b[1;33m,\u001b[0m \u001b[0mhue\u001b[0m\u001b[1;33m,\u001b[0m \u001b[0mdata\u001b[0m\u001b[1;33m,\u001b[0m \u001b[0morient\u001b[0m\u001b[1;33m,\u001b[0m \u001b[0morder\u001b[0m\u001b[1;33m,\u001b[0m \u001b[0mhue_order\u001b[0m\u001b[1;33m)\u001b[0m\u001b[1;33m\u001b[0m\u001b[1;33m\u001b[0m\u001b[0m\n\u001b[0m\u001b[0;32m   3790\u001b[0m     if (\n\u001b[0;32m   3791\u001b[0m         \u001b[0morder\u001b[0m \u001b[1;32mis\u001b[0m \u001b[1;32mnot\u001b[0m \u001b[1;32mNone\u001b[0m\u001b[1;33m\u001b[0m\u001b[1;33m\u001b[0m\u001b[0m\n",
      "\u001b[1;32mc:\\users\\lucas\\documents\\formation_ml_ocr\\projet_3\\venv\\lib\\site-packages\\seaborn\\categorical.py\u001b[0m in \u001b[0;36mestablish_variables\u001b[1;34m(self, x, y, hue, data, orient, order, hue_order, units)\u001b[0m\n\u001b[0;32m    151\u001b[0m                 \u001b[1;32mif\u001b[0m \u001b[0misinstance\u001b[0m\u001b[1;33m(\u001b[0m\u001b[0mvar\u001b[0m\u001b[1;33m,\u001b[0m \u001b[0mstr\u001b[0m\u001b[1;33m)\u001b[0m\u001b[1;33m:\u001b[0m\u001b[1;33m\u001b[0m\u001b[1;33m\u001b[0m\u001b[0m\n\u001b[0;32m    152\u001b[0m                     \u001b[0merr\u001b[0m \u001b[1;33m=\u001b[0m \u001b[1;34m\"Could not interpret input '{}'\"\u001b[0m\u001b[1;33m.\u001b[0m\u001b[0mformat\u001b[0m\u001b[1;33m(\u001b[0m\u001b[0mvar\u001b[0m\u001b[1;33m)\u001b[0m\u001b[1;33m\u001b[0m\u001b[1;33m\u001b[0m\u001b[0m\n\u001b[1;32m--> 153\u001b[1;33m                     \u001b[1;32mraise\u001b[0m \u001b[0mValueError\u001b[0m\u001b[1;33m(\u001b[0m\u001b[0merr\u001b[0m\u001b[1;33m)\u001b[0m\u001b[1;33m\u001b[0m\u001b[1;33m\u001b[0m\u001b[0m\n\u001b[0m\u001b[0;32m    154\u001b[0m \u001b[1;33m\u001b[0m\u001b[0m\n\u001b[0;32m    155\u001b[0m             \u001b[1;31m# Figure out the plotting orientation\u001b[0m\u001b[1;33m\u001b[0m\u001b[1;33m\u001b[0m\u001b[1;33m\u001b[0m\u001b[0m\n",
      "\u001b[1;31mValueError\u001b[0m: Could not interpret input 'modèle'"
     ]
    }
   ],
   "source": [
    "#Visualisation des différents modèles\n",
    "sns.set_theme(style=\"whitegrid\",palette=\"pastel\")\n",
    "\n",
    "g = sns.catplot(\n",
    "    data=df_time, kind=\"bar\",\n",
    "    x='modèle', y='fit time elec'\n",
    ")\n",
    "g.despine(left=True)\n",
    "g.set_axis_labels(\"\", \"Body mass (g)\")\n",
    "g.legend.set_title(\"\")"
   ]
  }
 ],
 "metadata": {
  "kernelspec": {
   "display_name": "Python 3",
   "language": "python",
   "name": "python3"
  },
  "language_info": {
   "codemirror_mode": {
    "name": "ipython",
    "version": 3
   },
   "file_extension": ".py",
   "mimetype": "text/x-python",
   "name": "python",
   "nbconvert_exporter": "python",
   "pygments_lexer": "ipython3",
   "version": "3.9.5"
  }
 },
 "nbformat": 4,
 "nbformat_minor": 5
}
